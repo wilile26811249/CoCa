{
 "cells": [
  {
   "cell_type": "code",
   "execution_count": 1,
   "metadata": {},
   "outputs": [],
   "source": [
    "import numpy as np\n",
    "import torch\n",
    "\n",
    "\n",
    "def grouper(seq, n):\n",
    "    '''Extract all n-grams from a sequence\n",
    "    '''\n",
    "    ngrams = []\n",
    "    for i in range(len(seq) - n + 1):\n",
    "        ngrams.append(seq[i : i + n])\n",
    "    \n",
    "    return ngrams\n",
    "\n",
    "\n",
    "def n_gram_precision(reference, candidate, n):\n",
    "    '''Calculate the precision for a given order of n-gram\n",
    "    '''\n",
    "    total_matches = 0\n",
    "    ngrams_r = grouper(reference, n)\n",
    "    ngrams_c = grouper(candidate, n)\n",
    "    total_num = len(ngrams_c)\n",
    "    assert total_num > 0\n",
    "    for ngram_c in ngrams_c:\n",
    "        if ngram_c in ngrams_r:\n",
    "            total_matches += 1\n",
    "    return total_matches / total_num\n",
    "\n",
    "\n",
    "def brevity_penalty(reference, candidate):\n",
    "    '''Calculate the brevity penalty between a reference and candidate\n",
    "    '''\n",
    "    if len(candidate) == 0:\n",
    "        return 0\n",
    "    if len(reference) <= len(candidate):\n",
    "        return 1\n",
    "    return np.exp(1 - (len(reference) / len(candidate)))\n",
    "\n",
    "\n",
    "def BLEU_score_batch(reference_lst, hypothesis_lst, n):\n",
    "    '''Calculate the BLEU score\n",
    "    '''\n",
    "    prec_list = []\n",
    "    for reference, hypothesis in zip(reference_lst, hypothesis_lst):\n",
    "        bp = brevity_penalty(reference, hypothesis)\n",
    "        prec = 1\n",
    "        cand_len = min(n, len(hypothesis))\n",
    "        if(cand_len == 0):\n",
    "            return 0\n",
    "        for i in range(1, cand_len + 1):\n",
    "            prec = prec * n_gram_precision(reference, hypothesis, i)\n",
    "        prec = prec ** (1/n)\n",
    "        prec_list.append(prec * bp)\n",
    "    bleu4_score = sum(prec_list) / len(prec_list)\n",
    "    return bleu4_score\n",
    "    "
   ]
  },
  {
   "cell_type": "code",
   "execution_count": 2,
   "metadata": {},
   "outputs": [
    {
     "data": {
      "text/plain": [
       "0.6434588841607617"
      ]
     },
     "execution_count": 2,
     "metadata": {},
     "output_type": "execute_result"
    }
   ],
   "source": [
    "BLEU_score_batch(\n",
    "    torch.tensor([[0, 2, 3, 3, 4, 5, 0], [0, 5, 7, 4, 3, 2, 0]]).tolist(),\n",
    "    torch.tensor([[0, 2, 3, 3, 4, 8, 0], [0, 5, 7, 4, 3, 1, 0]]).tolist(),\n",
    "    4\n",
    ")"
   ]
  },
  {
   "cell_type": "code",
   "execution_count": null,
   "metadata": {},
   "outputs": [],
   "source": []
  }
 ],
 "metadata": {
  "interpreter": {
   "hash": "7acebdac238784abba9fd84790e334c9ad79b6d735ecdb94eed7c00fde5e1647"
  },
  "kernelspec": {
   "display_name": "Python 3.9.9 ('yolov5')",
   "language": "python",
   "name": "python3"
  },
  "language_info": {
   "codemirror_mode": {
    "name": "ipython",
    "version": 3
   },
   "file_extension": ".py",
   "mimetype": "text/x-python",
   "name": "python",
   "nbconvert_exporter": "python",
   "pygments_lexer": "ipython3",
   "version": "3.9.9"
  },
  "orig_nbformat": 4
 },
 "nbformat": 4,
 "nbformat_minor": 2
}
